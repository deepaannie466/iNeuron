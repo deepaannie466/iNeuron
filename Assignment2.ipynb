{
  "nbformat": 4,
  "nbformat_minor": 0,
  "metadata": {
    "colab": {
      "name": "Assignment2.ipynb",
      "provenance": []
    },
    "kernelspec": {
      "name": "python3",
      "display_name": "Python 3"
    }
  },
  "cells": [
    {
      "cell_type": "markdown",
      "metadata": {
        "id": "8ikisVojrv5B",
        "colab_type": "text"
      },
      "source": [
        "1.Create the below pattern using nested for loop in Python."
      ]
    },
    {
      "cell_type": "code",
      "metadata": {
        "id": "uGf-4HplRvF0",
        "colab_type": "code",
        "outputId": "ac9bdc2e-3539-47fd-8c4c-568b02386064",
        "colab": {
          "base_uri": "https://localhost:8080/",
          "height": 187
        }
      },
      "source": [
        "for i in range(6):\n",
        "  print('* '*i)\n",
        "for i in range(4,0,-1):\n",
        "  print('* '*i)"
      ],
      "execution_count": 23,
      "outputs": [
        {
          "output_type": "stream",
          "text": [
            "\n",
            "* \n",
            "* * \n",
            "* * * \n",
            "* * * * \n",
            "* * * * * \n",
            "* * * * \n",
            "* * * \n",
            "* * \n",
            "* \n"
          ],
          "name": "stdout"
        }
      ]
    },
    {
      "cell_type": "code",
      "metadata": {
        "id": "qdBoDyIYr5IQ",
        "colab_type": "code",
        "colab": {}
      },
      "source": [
        ""
      ],
      "execution_count": 0,
      "outputs": []
    },
    {
      "cell_type": "markdown",
      "metadata": {
        "id": "aZAx8ObpsDtC",
        "colab_type": "text"
      },
      "source": [
        "2.Write a Python program to reverse a word after accepting the input from the user.\n",
        "Sample Output:\n",
        "Input word: AcadGild\n",
        "Output: dilGdacA"
      ]
    },
    {
      "cell_type": "code",
      "metadata": {
        "id": "YTZzR_2uS8sw",
        "colab_type": "code",
        "outputId": "c7514aa3-5ae8-4d00-d67d-489426f84d61",
        "colab": {
          "base_uri": "https://localhost:8080/",
          "height": 51
        }
      },
      "source": [
        "Word=input()\n",
        "Output=Word[::-1]\n",
        "print(Output)"
      ],
      "execution_count": 24,
      "outputs": [
        {
          "output_type": "stream",
          "text": [
            "iNeuron\n",
            "norueNi\n"
          ],
          "name": "stdout"
        }
      ]
    }
  ]
}